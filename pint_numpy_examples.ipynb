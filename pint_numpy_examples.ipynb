{
 "cells": [
  {
   "cell_type": "markdown",
   "metadata": {},
   "source": [
    "# Using Pint with NumPy\n",
    "\n",
    "This notebook demonstrates how to use Pint with NumPy for handling units in scientific calculations."
   ]
  },
  {
   "cell_type": "markdown",
   "metadata": {},
   "source": [
    "## Setup\n",
    "\n",
    "First, let's import NumPy and Pint and create a unit registry:"
   ]
  },
  {
   "cell_type": "code",
   "metadata": {
    "ExecuteTime": {
     "end_time": "2025-09-19T04:55:29.574997Z",
     "start_time": "2025-09-19T04:55:29.422342Z"
    }
   },
   "source": [
    "from __future__ import annotations\n",
    "\n",
    "import numpy as np\n",
    "np.set_printoptions(precision=2)\n",
    "import pint\n",
    "from pint import *\n",
    "\n",
    "# Create a unit registry\n",
    "ureg = pint.UnitRegistry()\n",
    "# Define a shorthand for creating quantities\n",
    "Q_ = ureg.Quantity\n",
    "\n",
    "# Silence NEP 18 warning\n",
    "import warnings\n",
    "with warnings.catch_warnings():\n",
    "    warnings.simplefilter(\"ignore\")\n",
    "    Q_([])"
   ],
   "outputs": [],
   "execution_count": 1
  },
  {
   "cell_type": "markdown",
   "metadata": {},
   "source": [
    "## Basic Operations with NumPy Arrays\n",
    "\n",
    "You can apply units to NumPy arrays and perform calculations while maintaining unit consistency:"
   ]
  },
  {
   "cell_type": "code",
   "metadata": {
    "ExecuteTime": {
     "end_time": "2025-09-19T04:55:35.334323Z",
     "start_time": "2025-09-19T04:55:35.331618Z"
    }
   },
   "source": [
    "# Create a NumPy array with units\n",
    "distances = np.array([10, 20, 30]) * ureg.meter\n",
    "print(f\"Distances: {distances}\")\n",
    "\n",
    "# Create another array with different units\n",
    "more_distances = np.array([50, 150, 250]) * ureg.centimeter\n",
    "print(f\"More distances: {more_distances}\")\n",
    "\n",
    "# Convert to consistent units\n",
    "more_distances_m = more_distances.to(ureg.meter)\n",
    "print(f\"More distances in meters: {more_distances_m}\")"
   ],
   "outputs": [
    {
     "name": "stdout",
     "output_type": "stream",
     "text": [
      "Distances: [10 20 30] meter\n",
      "More distances: [ 50 150 250] centimeter\n",
      "More distances in meters: [0.5 1.5 2.5] meter\n"
     ]
    }
   ],
   "execution_count": 2
  },
  {
   "cell_type": "markdown",
   "metadata": {},
   "source": [
    "## Mathematical Operations\n",
    "\n",
    "Pint handles unit conversions automatically when performing mathematical operations:"
   ]
  },
  {
   "cell_type": "code",
   "metadata": {
    "ExecuteTime": {
     "end_time": "2025-09-19T04:55:39.163750Z",
     "start_time": "2025-09-19T04:55:39.161111Z"
    }
   },
   "source": [
    "# Addition of arrays with units\n",
    "# Pint will convert units automatically\n",
    "total_distance = distances[0:3] + more_distances\n",
    "print(f\"Total distance: {total_distance}\")\n",
    "\n",
    "# Multiplication and division\n",
    "areas = distances * more_distances_m[0:4]\n",
    "print(f\"Areas: {areas}\")\n",
    "\n",
    "# Unit conversion\n",
    "areas_cm2 = areas.to(ureg.centimeter**2)\n",
    "print(f\"Areas in cm²: {areas_cm2}\")"
   ],
   "outputs": [
    {
     "name": "stdout",
     "output_type": "stream",
     "text": [
      "Total distance: [10.5 21.5 32.5] meter\n",
      "Areas: [5.0 30.0 75.0] meter ** 2\n",
      "Areas in cm²: [50000.0 300000.0 750000.0] centimeter ** 2\n"
     ]
    }
   ],
   "execution_count": 3
  },
  {
   "cell_type": "markdown",
   "metadata": {},
   "source": [
    "## NumPy Functions with Pint\n",
    "\n",
    "Most NumPy functions work seamlessly with Pint quantities:"
   ]
  },
  {
   "cell_type": "code",
   "metadata": {
    "ExecuteTime": {
     "end_time": "2025-09-19T04:55:46.448961Z",
     "start_time": "2025-09-19T04:55:46.445480Z"
    }
   },
   "source": [
    "# Statistical operations\n",
    "print(f\"Mean distance: {np.mean(distances)}\")\n",
    "print(f\"Maximum distance: {np.max(distances)}\")\n",
    "print(f\"Minimum distance: {np.min(distances)}\")\n",
    "print(f\"Standard deviation: {np.std(distances)}\")\n",
    "\n",
    "# Array operations\n",
    "normalized = distances / np.linalg.norm(distances.magnitude)\n",
    "print(f\"Normalized distances: {normalized}\")\n",
    "\n",
    "# Sqrt preserves units appropriately\n",
    "lengths = np.array([4, 9, 16, 25]) * ureg.meter**2\n",
    "sqrt_lengths = np.sqrt(lengths)\n",
    "print(f\"Square root of areas: {sqrt_lengths}\")"
   ],
   "outputs": [
    {
     "name": "stdout",
     "output_type": "stream",
     "text": [
      "Mean distance: 20.0 meter\n",
      "Maximum distance: 30 meter\n",
      "Minimum distance: 10 meter\n",
      "Standard deviation: 8.16496580927726 meter\n",
      "Normalized distances: [0.2672612419124244 0.5345224838248488 0.8017837257372731] meter\n",
      "Square root of areas: [2.0 3.0 4.0 5.0] meter\n"
     ]
    }
   ],
   "execution_count": 4
  },
  {
   "cell_type": "markdown",
   "metadata": {},
   "source": [
    "## Working with Different Physical Quantities\n",
    "\n",
    "Let's explore more complex examples mixing different physical quantities:"
   ]
  },
  {
   "cell_type": "code",
   "metadata": {
    "ExecuteTime": {
     "end_time": "2025-09-19T04:56:05.124922Z",
     "start_time": "2025-09-19T04:56:05.121748Z"
    }
   },
   "source": [
    "# Time values\n",
    "times = np.array([2, 4, 6]) * ureg.second\n",
    "\n",
    "# Calculate velocities\n",
    "velocities = distances / times\n",
    "print(f\"Velocities: {velocities}\")\n",
    "\n",
    "# Convert to different units\n",
    "velocities_kmh = velocities.to(ureg.kilometer / ureg.hour)\n",
    "print(f\"Velocities in km/h: {velocities_kmh}\")\n",
    "\n",
    "# Calculate acceleration\n",
    "accelerations = velocities / times\n",
    "print(f\"Accelerations: {accelerations}\")\n",
    "\n",
    "# Convert to standard units\n",
    "print(f\"Accelerations in standard units: {accelerations.to_base_units()}\")"
   ],
   "outputs": [
    {
     "name": "stdout",
     "output_type": "stream",
     "text": [
      "Velocities: [5.0 5.0 5.0] meter / second\n",
      "Velocities in km/h: [18.0 18.0 18.0] kilometer / hour\n",
      "Accelerations: [2.5 1.25 0.8333333333333334] meter / second ** 2\n",
      "Accelerations in standard units: [2.5 1.25 0.8333333333333334] meter / second ** 2\n"
     ]
    }
   ],
   "execution_count": 5
  },
  {
   "cell_type": "markdown",
   "metadata": {},
   "source": [
    "## Array Shape Operations\n",
    "\n",
    "NumPy's reshape and other array manipulation functions work with Pint quantities:"
   ]
  },
  {
   "cell_type": "code",
   "metadata": {
    "ExecuteTime": {
     "end_time": "2025-09-19T04:56:12.842523Z",
     "start_time": "2025-09-19T04:56:12.839428Z"
    }
   },
   "source": [
    "# Create a 2D array with units\n",
    "data_2d = np.array([[1, 2, 3], [4, 5, 6]]) * ureg.kilogram\n",
    "print(f\"2D data:\\n{data_2d}\")\n",
    "\n",
    "# Reshape\n",
    "data_flat = data_2d.flatten()\n",
    "print(f\"Flattened data: {data_flat}\")\n",
    "\n",
    "# Reshape back to 2D but different shape\n",
    "data_reshaped = data_flat.reshape(3, 2)\n",
    "print(f\"Reshaped data:\\n{data_reshaped}\")"
   ],
   "outputs": [
    {
     "name": "stdout",
     "output_type": "stream",
     "text": [
      "2D data:\n",
      "[[1 2 3] [4 5 6]] kilogram\n",
      "Flattened data: [1 2 3 4 5 6] kilogram\n",
      "Reshaped data:\n",
      "[[1 2] [3 4] [5 6]] kilogram\n"
     ]
    }
   ],
   "execution_count": 6
  },
  {
   "cell_type": "markdown",
   "metadata": {},
   "source": [
    "## Dimensionality Error Handling\n",
    "\n",
    "Pint helps catch errors when trying to combine incompatible units:"
   ]
  },
  {
   "cell_type": "code",
   "metadata": {},
   "source": [
    "# Create some values with different units\n",
    "masses = np.array([10, 20, 30]) * ureg.kilogram\n",
    "temperatures = np.array([20, 25, 30]) * ureg.degC\n",
    "\n",
    "try:\n",
    "    # This will raise a DimensionalityError\n",
    "    combined = masses + temperatures\n",
    "except pint.DimensionalityError as e:\n",
    "    print(f\"Error: {e}\")\n",
    "    \n",
    "# But we can multiply them\n",
    "product = masses * temperatures\n",
    "print(f\"Product: {product}\")"
   ],
   "outputs": [],
   "execution_count": null
  },
  {
   "cell_type": "markdown",
   "metadata": {},
   "source": [
    "## Applying NumPy Functions to Quantity Objects\n",
    "\n",
    "Let's explore more NumPy functions with quantities:"
   ]
  },
  {
   "cell_type": "code",
   "metadata": {
    "ExecuteTime": {
     "end_time": "2025-09-19T04:56:43.833776Z",
     "start_time": "2025-09-19T04:56:43.830417Z"
    }
   },
   "source": [
    "# Create a quantity array\n",
    "values = np.array([1.1, 2.2, 3.3, 4.4, 5.5]) * ureg.meter\n",
    "\n",
    "# Round the values\n",
    "rounded = np.round(values)\n",
    "print(f\"Rounded values: {rounded}\")\n",
    "\n",
    "# Floor and ceiling\n",
    "print(f\"Floor: {np.floor(values)}\")\n",
    "print(f\"Ceiling: {np.ceil(values)}\")\n",
    "\n",
    "# Cumulative sum\n",
    "cumsum = np.cumsum(values)\n",
    "print(f\"Cumulative sum: {cumsum}\")"
   ],
   "outputs": [
    {
     "name": "stdout",
     "output_type": "stream",
     "text": [
      "Rounded values: [1.0 2.0 3.0 4.0 6.0] meter\n",
      "Floor: [1.0 2.0 3.0 4.0 5.0] meter\n",
      "Ceiling: [2.0 3.0 4.0 5.0 6.0] meter\n",
      "Cumulative sum: [1.1 3.3000000000000003 6.6 11.0 16.5] meter\n"
     ]
    }
   ],
   "execution_count": 8
  },
  {
   "cell_type": "markdown",
   "metadata": {},
   "source": [
    "## Converting Between Units\n",
    "\n",
    "Pint makes it easy to convert between compatible units:"
   ]
  },
  {
   "metadata": {
    "ExecuteTime": {
     "end_time": "2025-09-19T05:24:12.063071Z",
     "start_time": "2025-09-19T05:24:12.059665Z"
    }
   },
   "cell_type": "code",
   "source": [
    "L=180*ureg.inch\n",
    "\n",
    "isinstance(L, Quantity)\n",
    "L.to_base_units()"
   ],
   "outputs": [
    {
     "data": {
      "text/plain": [
       "True"
      ]
     },
     "execution_count": 21,
     "metadata": {},
     "output_type": "execute_result"
    }
   ],
   "execution_count": 21
  },
  {
   "cell_type": "code",
   "metadata": {
    "ExecuteTime": {
     "end_time": "2025-09-19T04:56:59.957162Z",
     "start_time": "2025-09-19T04:56:59.953938Z"
    }
   },
   "source": [
    "# Create some values in different units\n",
    "lengths = np.array([10, 20, 30, 40, 50]) * ureg.inch\n",
    "print(f\"Original lengths: {lengths}\")\n",
    "\n",
    "# Convert to various units\n",
    "print(f\"In meters: {lengths.to(ureg.meter)}\")\n",
    "print(f\"In centimeters: {lengths.to(ureg.centimeter)}\")\n",
    "print(f\"In feet: {lengths.to(ureg.foot)}\")\n",
    "print(f\"In yards: {lengths.to(ureg.yard)}\")"
   ],
   "outputs": [
    {
     "name": "stdout",
     "output_type": "stream",
     "text": [
      "Original lengths: [10 20 30 40 50] inch\n",
      "In meters: [0.254 0.508 0.762 1.016 1.27] meter\n",
      "In centimeters: [25.4 50.8 76.2 101.6 127.0] centimeter\n",
      "In feet: [0.8333333333333333 1.6666666666666665 2.5 3.333333333333333 4.166666666666666] foot\n",
      "In yards: [0.2777777777777778 0.5555555555555556 0.8333333333333333 1.1111111111111112 1.3888888888888888] yard\n"
     ]
    }
   ],
   "execution_count": 9
  },
  {
   "cell_type": "markdown",
   "metadata": {},
   "source": [
    "## Scientific Calculations Example: Kinetic Energy\n",
    "\n",
    "Let's calculate the kinetic energy of moving objects using Pint and NumPy:"
   ]
  },
  {
   "cell_type": "code",
   "metadata": {},
   "source": [
    "# Define masses and velocities\n",
    "masses = np.array([1, 2, 3, 4, 5]) * ureg.kilogram\n",
    "velocities = np.array([10, 15, 20, 25, 30]) * ureg.meter / ureg.second\n",
    "\n",
    "# Calculate kinetic energy: KE = 1/2 * m * v²\n",
    "kinetic_energies = 0.5 * masses * velocities**2\n",
    "print(f\"Kinetic energies: {kinetic_energies}\")"
   ],
   "execution_count": null,
   "outputs": []
  },
  {
   "metadata": {
    "ExecuteTime": {
     "end_time": "2025-09-19T05:04:17.294813Z",
     "start_time": "2025-09-19T05:04:17.289713Z"
    }
   },
   "cell_type": "code",
   "source": "kinetic_energies.to_base_units()",
   "outputs": [
    {
     "data": {
      "text/plain": [
       "<Quantity([  50.  225.  600. 1250. 2250.], 'kilogram * meter ** 2 / second ** 2')>"
      ],
      "text/html": [
       "<table><tbody><tr><th>Magnitude</th><td style='text-align:left;'><pre>[50.0 225.0 600.0 1250.0 2250.0]</pre></td></tr><tr><th>Units</th><td style='text-align:left;'>kilogram meter<sup>2</sup>/second<sup>2</sup></td></tr></tbody></table>"
      ],
      "text/latex": "$\\begin{pmatrix} &  &  &  & \\end{pmatrix}\\ \\frac{\\mathrm{kilogram} \\cdot \\mathrm{meter}^{2}}{\\mathrm{second}^{2}}$"
     },
     "execution_count": 13,
     "metadata": {},
     "output_type": "execute_result"
    }
   ],
   "execution_count": 13
  },
  {
   "metadata": {
    "ExecuteTime": {
     "end_time": "2025-09-19T05:16:48.034674Z",
     "start_time": "2025-09-19T05:16:48.025349Z"
    }
   },
   "cell_type": "code",
   "source": [
    "# Filter the dir() output to show only attributes from pint-related classes\n",
    "# This will show methods and attributes inherited from pint's classes\n",
    "[attr for attr in dir(kinetic_energies) if attr in dir(pint.Quantity) or attr in dir(pint.Unit)]\n"
   ],
   "outputs": [
    {
     "data": {
      "text/plain": [
       "['T',\n",
       " 'UnitsContainer',\n",
       " '_NumpyQuantity__ito_if_needed',\n",
       " '__abs__',\n",
       " '__add__',\n",
       " '__annotations__',\n",
       " '__array__',\n",
       " '__array_function__',\n",
       " '__array_priority__',\n",
       " '__array_ufunc__',\n",
       " '__bool__',\n",
       " '__bytes__',\n",
       " '__class__',\n",
       " '__class_getitem__',\n",
       " '__complex__',\n",
       " '__copy__',\n",
       " '__dask_graph__',\n",
       " '__dask_keys__',\n",
       " '__dask_optimize__',\n",
       " '__dask_postcompute__',\n",
       " '__dask_postpersist__',\n",
       " '__dask_scheduler__',\n",
       " '__dask_tokenize__',\n",
       " '__deepcopy__',\n",
       " '__delattr__',\n",
       " '__dict__',\n",
       " '__dir__',\n",
       " '__div__',\n",
       " '__divmod__',\n",
       " '__doc__',\n",
       " '__eq__',\n",
       " '__firstlineno__',\n",
       " '__float__',\n",
       " '__floordiv__',\n",
       " '__format__',\n",
       " '__ge__',\n",
       " '__getattr__',\n",
       " '__getattribute__',\n",
       " '__getitem__',\n",
       " '__getstate__',\n",
       " '__gt__',\n",
       " '__hash__',\n",
       " '__iadd__',\n",
       " '__idiv__',\n",
       " '__ifloordiv__',\n",
       " '__imod__',\n",
       " '__imul__',\n",
       " '__init__',\n",
       " '__init_subclass__',\n",
       " '__int__',\n",
       " '__ipow__',\n",
       " '__isub__',\n",
       " '__iter__',\n",
       " '__itruediv__',\n",
       " '__le__',\n",
       " '__len__',\n",
       " '__lt__',\n",
       " '__matmul__',\n",
       " '__mod__',\n",
       " '__module__',\n",
       " '__mul__',\n",
       " '__ne__',\n",
       " '__neg__',\n",
       " '__new__',\n",
       " '__nonzero__',\n",
       " '__orig_bases__',\n",
       " '__parameters__',\n",
       " '__pos__',\n",
       " '__pow__',\n",
       " '__radd__',\n",
       " '__rdiv__',\n",
       " '__rdivmod__',\n",
       " '__reduce__',\n",
       " '__reduce_ex__',\n",
       " '__repr__',\n",
       " '__rfloordiv__',\n",
       " '__rmatmul__',\n",
       " '__rmod__',\n",
       " '__rmul__',\n",
       " '__round__',\n",
       " '__rpow__',\n",
       " '__rsub__',\n",
       " '__rtruediv__',\n",
       " '__setattr__',\n",
       " '__setitem__',\n",
       " '__sizeof__',\n",
       " '__static_attributes__',\n",
       " '__str__',\n",
       " '__sub__',\n",
       " '__subclasshook__',\n",
       " '__truediv__',\n",
       " '__weakref__',\n",
       " '_add_sub',\n",
       " '_check',\n",
       " '_convert_magnitude',\n",
       " '_convert_magnitude_not_inplace',\n",
       " '_dask_finalize',\n",
       " '_dimensionality',\n",
       " '_get_delta_units',\n",
       " '_get_non_multiplicative_units',\n",
       " '_get_unit_definition',\n",
       " '_has_compatible_delta',\n",
       " '_iadd_sub',\n",
       " '_imul_div',\n",
       " '_is_logarithmic',\n",
       " '_is_multiplicative',\n",
       " '_mul_div',\n",
       " '_numpy_method_wrap',\n",
       " '_ok_for_muldiv',\n",
       " '_repr_html_',\n",
       " '_repr_latex_',\n",
       " '_repr_pretty_',\n",
       " '_truedivide_cast_int',\n",
       " '_wrapped_numpy_methods',\n",
       " 'check',\n",
       " 'clip',\n",
       " 'compare',\n",
       " 'compatible_units',\n",
       " 'compute',\n",
       " 'dimensionality',\n",
       " 'dimensionless',\n",
       " 'dot',\n",
       " 'dtype',\n",
       " 'fill',\n",
       " 'flat',\n",
       " 'force_ndarray',\n",
       " 'force_ndarray_like',\n",
       " 'format_babel',\n",
       " 'from_list',\n",
       " 'from_sequence',\n",
       " 'from_tuple',\n",
       " 'imag',\n",
       " 'is_compatible_with',\n",
       " 'ito',\n",
       " 'ito_base_units',\n",
       " 'ito_preferred',\n",
       " 'ito_reduced_units',\n",
       " 'ito_root_units',\n",
       " 'ito_unprefixed',\n",
       " 'm',\n",
       " 'm_as',\n",
       " 'magnitude',\n",
       " 'ndim',\n",
       " 'persist',\n",
       " 'plus_minus',\n",
       " 'prod',\n",
       " 'put',\n",
       " 'real',\n",
       " 'searchsorted',\n",
       " 'shape',\n",
       " 'to',\n",
       " 'to_base_units',\n",
       " 'to_compact',\n",
       " 'to_preferred',\n",
       " 'to_reduced_units',\n",
       " 'to_root_units',\n",
       " 'to_timedelta',\n",
       " 'to_tuple',\n",
       " 'to_unprefixed',\n",
       " 'tolist',\n",
       " 'u',\n",
       " 'unit_items',\n",
       " 'unitless',\n",
       " 'units',\n",
       " 'visualize']"
      ]
     },
     "execution_count": 16,
     "metadata": {},
     "output_type": "execute_result"
    }
   ],
   "execution_count": 16
  },
  {
   "metadata": {
    "ExecuteTime": {
     "end_time": "2025-09-19T05:18:54.634661Z",
     "start_time": "2025-09-19T05:18:54.593824Z"
    }
   },
   "cell_type": "code",
   "source": "kinetic_energies.to_preferred_units()",
   "outputs": [
    {
     "ename": "AttributeError",
     "evalue": "Neither Quantity object nor its magnitude ([  50.  225.  600. 1250. 2250.]) has attribute 'to_preferred_units'",
     "output_type": "error",
     "traceback": [
      "\u001B[31m---------------------------------------------------------------------------\u001B[39m",
      "\u001B[31mAttributeError\u001B[39m                            Traceback (most recent call last)",
      "\u001B[36mFile \u001B[39m\u001B[32mC:\\Python313\\Lib\\site-packages\\pint\\facets\\numpy\\quantity.py:248\u001B[39m, in \u001B[36mNumpyQuantity.__getattr__\u001B[39m\u001B[34m(self, item)\u001B[39m\n\u001B[32m    247\u001B[39m \u001B[38;5;28;01mtry\u001B[39;00m:\n\u001B[32m--> \u001B[39m\u001B[32m248\u001B[39m     \u001B[38;5;28;01mreturn\u001B[39;00m \u001B[38;5;28;43mgetattr\u001B[39;49m\u001B[43m(\u001B[49m\u001B[38;5;28;43mself\u001B[39;49m\u001B[43m.\u001B[49m\u001B[43m_magnitude\u001B[49m\u001B[43m,\u001B[49m\u001B[43m \u001B[49m\u001B[43mitem\u001B[49m\u001B[43m)\u001B[49m\n\u001B[32m    249\u001B[39m \u001B[38;5;28;01mexcept\u001B[39;00m \u001B[38;5;167;01mAttributeError\u001B[39;00m:\n",
      "\u001B[31mAttributeError\u001B[39m: 'numpy.ndarray' object has no attribute 'to_preferred_units'",
      "\nDuring handling of the above exception, another exception occurred:\n",
      "\u001B[31mAttributeError\u001B[39m                            Traceback (most recent call last)",
      "\u001B[36mCell\u001B[39m\u001B[36m \u001B[39m\u001B[32mIn[17]\u001B[39m\u001B[32m, line 1\u001B[39m\n\u001B[32m----> \u001B[39m\u001B[32m1\u001B[39m \u001B[43mkinetic_energies\u001B[49m\u001B[43m.\u001B[49m\u001B[43mto_preferred_units\u001B[49m()\n",
      "\u001B[36mFile \u001B[39m\u001B[32mC:\\Python313\\Lib\\site-packages\\pint\\facets\\numpy\\quantity.py:250\u001B[39m, in \u001B[36mNumpyQuantity.__getattr__\u001B[39m\u001B[34m(self, item)\u001B[39m\n\u001B[32m    248\u001B[39m     \u001B[38;5;28;01mreturn\u001B[39;00m \u001B[38;5;28mgetattr\u001B[39m(\u001B[38;5;28mself\u001B[39m._magnitude, item)\n\u001B[32m    249\u001B[39m \u001B[38;5;28;01mexcept\u001B[39;00m \u001B[38;5;167;01mAttributeError\u001B[39;00m:\n\u001B[32m--> \u001B[39m\u001B[32m250\u001B[39m     \u001B[38;5;28;01mraise\u001B[39;00m \u001B[38;5;167;01mAttributeError\u001B[39;00m(\n\u001B[32m    251\u001B[39m         \u001B[33m\"\u001B[39m\u001B[33mNeither Quantity object nor its magnitude (\u001B[39m\u001B[38;5;132;01m{}\u001B[39;00m\u001B[33m) \u001B[39m\u001B[33m\"\u001B[39m\n\u001B[32m    252\u001B[39m         \u001B[33m\"\u001B[39m\u001B[33mhas attribute \u001B[39m\u001B[33m'\u001B[39m\u001B[38;5;132;01m{}\u001B[39;00m\u001B[33m'\u001B[39m\u001B[33m\"\u001B[39m.format(\u001B[38;5;28mself\u001B[39m._magnitude, item)\n\u001B[32m    253\u001B[39m     )\n",
      "\u001B[31mAttributeError\u001B[39m: Neither Quantity object nor its magnitude ([  50.  225.  600. 1250. 2250.]) has attribute 'to_preferred_units'"
     ]
    }
   ],
   "execution_count": 17
  },
  {
   "metadata": {},
   "cell_type": "code",
   "outputs": [
    {
     "name": "stdout",
     "output_type": "stream",
     "text": [
      "Kinetic energies: [50.0 225.0 600.0 1250.0 2250.0] kilogram * meter ** 2 / second ** 2\n",
      "In kilojoules: [0.05 0.225 0.6 1.25 2.25] kilojoule\n",
      "In kilocalories: [0.011950286806883365 0.053776290630975145 0.14340344168260039 0.29875717017208414 0.5377629063097514] kilocalorie\n",
      "In BTU: [0.04739084939567189 0.2132588222805235 0.5686901927480627 1.1847712348917971 2.132588222805235] british_thermal_unit\n"
     ]
    }
   ],
   "execution_count": 11,
   "source": [
    "# Convert to different energy units\n",
    "print(f\"In kilojoules: {kinetic_energies.to(ureg.kilojoule)}\")\n",
    "print(f\"In kilocalories: {kinetic_energies.to(ureg.kilocalorie)}\")\n",
    "print(f\"In BTU: {kinetic_energies.to(ureg.BTU)}\")"
   ]
  },
  {
   "cell_type": "markdown",
   "metadata": {},
   "source": [
    "## Practical Example: Data Analysis with Units\n",
    "\n",
    "Let's perform a simple data analysis task with units:"
   ]
  },
  {
   "cell_type": "code",
   "metadata": {
    "ExecuteTime": {
     "end_time": "2025-09-19T04:58:02.273113Z",
     "start_time": "2025-09-19T04:58:02.260290Z"
    }
   },
   "source": [
    "# Simulate temperature readings in Celsius from different sensors\n",
    "temps_celsius = np.random.normal(25, 3, size=(4, 5)) * ureg.degC\n",
    "print(f\"Temperature readings (°C):\\n{temps_celsius}\")\n",
    "\n",
    "# Convert to Fahrenheit\n",
    "temps_fahrenheit = temps_celsius.to(ureg.degF)\n",
    "print(f\"\\nTemperature readings (°F):\\n{temps_fahrenheit}\")\n",
    "\n",
    "# Calculate statistics by sensor (across rows)\n",
    "mean_temps = np.mean(temps_celsius, axis=1)\n",
    "std_temps = np.std(temps_celsius, axis=1)\n",
    "\n",
    "print(f\"\\nMean temperatures by sensor: {mean_temps}\")\n",
    "print(f\"Std. deviation by sensor: {std_temps}\")\n",
    "\n",
    "# Find the sensor with the highest average temperature\n",
    "hottest_sensor = np.argmax(mean_temps.magnitude)\n",
    "print(f\"\\nHottest sensor: {hottest_sensor} with average temperature {mean_temps[hottest_sensor]}\")\n",
    "\n",
    "# Calculate temperature difference from the mean for each reading\n",
    "deviations = temps_celsius - np.mean(temps_celsius)\n",
    "print(f\"\\nDeviations from overall mean:\\n{deviations}\")"
   ],
   "outputs": [
    {
     "name": "stdout",
     "output_type": "stream",
     "text": [
      "Temperature readings (°C):\n",
      "[[22.1650519818743 26.82278998010042 25.094234704336177 23.63715294456545  18.680717675834323] [27.94870495284328 23.255052067210283 23.62253997688368  20.912872503395263 21.68603788867442] [23.702626631916164 20.16776136367868 22.85813261057399  26.17176921083624 22.802076290360244] [25.365872839233223 22.773916792981005 32.63578391127237  21.820397415496622 24.084958300878043]] degree_Celsius\n",
      "\n",
      "Temperature readings (°F):\n",
      "[[71.89709356737364 80.2810219641807 77.1696224678051 74.54687530021776  65.62529181650173] [82.30766891511784 73.85909372097842 74.52057195839055 69.64317050611139  71.03486819961391] [74.66472793744907 68.30197045462153 73.14463869903311 79.1091845795052  73.04373732264833] [77.65857111061977 72.99305022736579 90.7444110402902 71.2767153478939  75.35292494158041]] degree_Fahrenheit\n",
      "\n",
      "Mean temperatures by sensor: [23.279989457342133 23.48504147780138 23.140473221473066 25.336185851972253] degree_Celsius\n",
      "Std. deviation by sensor: [2.7700856886125025 2.4432993975870474 1.9254098953221808 3.841264754996394] delta_degree_Celsius\n",
      "\n",
      "Hottest sensor: 3 with average temperature 25.336185851972253 degree_Celsius\n",
      "\n",
      "Deviations from overall mean:\n",
      "[[-1.6453705202729125 3.012367477953209 1.2838122021889653  -0.17326955758176155 -5.129704826312889] [4.138282450696067 -0.5553704349369291 -0.18788252526353233  -2.8975499987519484 -2.1243846134727917] [-0.10779587023104753 -3.642661138468533 -0.9522898915732227  2.3613467086890267 -1.008346211786968] [1.555450337086011 -1.0365057091662067 8.825361409125158  -1.99002508665059 0.274535798730831]] delta_degree_Celsius\n"
     ]
    }
   ],
   "execution_count": 12
  }
 ],
 "metadata": {
  "kernelspec": {
   "display_name": "Python 3",
   "language": "python",
   "name": "python3"
  },
  "language_info": {
   "codemirror_mode": {
    "name": "ipython",
    "version": 3
   },
   "file_extension": ".py",
   "mimetype": "text/x-python",
   "name": "python",
   "nbconvert_exporter": "python",
   "pygments_lexer": "ipython3",
   "version": "3.9.0"
  }
 },
 "nbformat": 4,
 "nbformat_minor": 4
}
